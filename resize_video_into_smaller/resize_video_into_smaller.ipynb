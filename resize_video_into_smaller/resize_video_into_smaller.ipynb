{
  "nbformat": 4,
  "nbformat_minor": 0,
  "metadata": {
    "colab": {
      "provenance": [],
      "include_colab_link": true
    },
    "kernelspec": {
      "name": "python3",
      "display_name": "Python 3"
    },
    "language_info": {
      "name": "python"
    }
  },
  "cells": [
    {
      "cell_type": "markdown",
      "metadata": {
        "id": "view-in-github",
        "colab_type": "text"
      },
      "source": [
        "<a href=\"https://colab.research.google.com/github/khushidass/mini-project-26/blob/main/resize_video_into_smaller/resize_video_into_smaller.ipynb\" target=\"_parent\"><img src=\"https://colab.research.google.com/assets/colab-badge.svg\" alt=\"Open In Colab\"/></a>"
      ]
    },
    {
      "cell_type": "code",
      "execution_count": 4,
      "metadata": {
        "colab": {
          "base_uri": "https://localhost:8080/"
        },
        "id": "rc3-FNzLzVtq",
        "outputId": "5ca7cf2e-347c-454c-f8e7-000e452e7fa5"
      },
      "outputs": [
        {
          "output_type": "stream",
          "name": "stdout",
          "text": [
            "Collecting yt-dlp\n",
            "  Downloading yt_dlp-2025.6.30-py3-none-any.whl.metadata (174 kB)\n",
            "\u001b[?25l     \u001b[90m━━━━━━━━━━━━━━━━━━━━━━━━━━━━━━━━━━━━━━━━\u001b[0m \u001b[32m0.0/174.3 kB\u001b[0m \u001b[31m?\u001b[0m eta \u001b[36m-:--:--\u001b[0m\r\u001b[2K     \u001b[91m━━━━━━━━━━━━━━━━━━━━━━━━━━━━━━━━━━━━━━\u001b[0m\u001b[91m╸\u001b[0m \u001b[32m174.1/174.3 kB\u001b[0m \u001b[31m6.3 MB/s\u001b[0m eta \u001b[36m0:00:01\u001b[0m\r\u001b[2K     \u001b[90m━━━━━━━━━━━━━━━━━━━━━━━━━━━━━━━━━━━━━━━\u001b[0m \u001b[32m174.3/174.3 kB\u001b[0m \u001b[31m3.9 MB/s\u001b[0m eta \u001b[36m0:00:00\u001b[0m\n",
            "\u001b[?25hRequirement already satisfied: opencv-python in /usr/local/lib/python3.11/dist-packages (4.11.0.86)\n",
            "Requirement already satisfied: numpy>=1.21.2 in /usr/local/lib/python3.11/dist-packages (from opencv-python) (2.0.2)\n",
            "Downloading yt_dlp-2025.6.30-py3-none-any.whl (3.3 MB)\n",
            "\u001b[2K   \u001b[90m━━━━━━━━━━━━━━━━━━━━━━━━━━━━━━━━━━━━━━━━\u001b[0m \u001b[32m3.3/3.3 MB\u001b[0m \u001b[31m51.6 MB/s\u001b[0m eta \u001b[36m0:00:00\u001b[0m\n",
            "\u001b[?25hInstalling collected packages: yt-dlp\n",
            "Successfully installed yt-dlp-2025.6.30\n"
          ]
        }
      ],
      "source": [
        "!pip install yt-dlp opencv-python"
      ]
    },
    {
      "cell_type": "code",
      "source": [
        "import os\n",
        "import yt_dlp\n",
        "import cv2\n",
        "\n",
        "#  Step 1: Use your YouTube Shorts URL\n",
        "youtube_url = \"https://www.youtube.com/shorts/iv0iP3xhq_Q\"\n",
        "\n",
        "#  Step 2: Create a folder to store videos\n",
        "video_folder = 'videos'\n",
        "os.makedirs(video_folder, exist_ok=True)\n",
        "\n",
        "#  Step 3: Define where to save the downloaded video\n",
        "downloaded_video_path = os.path.join(video_folder, 'downloaded_video.mp4')\n",
        "\n",
        "#  Step 4: Download the YouTube Shorts video using yt_dlp\n",
        "ydl_opts = {\n",
        "    'format': 'mp4',\n",
        "    'outtmpl': downloaded_video_path\n",
        "}\n",
        "\n",
        "print(\"📥 Downloading video...\")\n",
        "with yt_dlp.YoutubeDL(ydl_opts) as ydl:\n",
        "    ydl.download([youtube_url])\n",
        "print(\" Video downloaded successfully!\")\n",
        "\n",
        "#  Step 5: Open the video using OpenCV\n",
        "cap = cv2.VideoCapture(downloaded_video_path)\n",
        "\n",
        "# Get original video properties\n",
        "fps = cap.get(cv2.CAP_PROP_FPS)\n",
        "width = int(cap.get(cv2.CAP_PROP_FRAME_WIDTH))\n",
        "height = int(cap.get(cv2.CAP_PROP_FRAME_HEIGHT))\n",
        "\n",
        "# Calculate 50% resized dimensions\n",
        "resized_width = width // 2\n",
        "resized_height = height // 2\n",
        "\n",
        "# Step 6: Define output path for resized video (with color)\n",
        "resized_video_path = os.path.join(video_folder, 'resized_video.avi')\n",
        "out = cv2.VideoWriter(resized_video_path, cv2.VideoWriter_fourcc(*'XVID'), fps, (resized_width, resized_height), isColor=True)\n",
        "# step 7 Resize and save each frame\n",
        "print(\"Resizing video to 50%...\")\n",
        "while True:\n",
        "    ret, frame = cap.read()\n",
        "    if not ret:\n",
        "        break\n",
        "\n",
        "    # Resize the frame to 50%\n",
        "    resized_frame = cv2.resize(frame, (resized_width, resized_height))\n",
        "\n",
        "    # Save the resized frame (in color)\n",
        "    out.write(resized_frame)\n",
        "\n",
        "cap.release()\n",
        "out.release()\n",
        "\n",
        "print(f\"✅ Resized video saved at: {resized_video_path}\")"
      ],
      "metadata": {
        "colab": {
          "base_uri": "https://localhost:8080/"
        },
        "id": "-JT1lQTUzb1T",
        "outputId": "a6150e4e-23cb-44ba-d9f7-36a392b4cfa6"
      },
      "execution_count": 5,
      "outputs": [
        {
          "output_type": "stream",
          "name": "stdout",
          "text": [
            "📥 Downloading video...\n",
            "[youtube] Extracting URL: https://www.youtube.com/shorts/iv0iP3xhq_Q\n",
            "[youtube] iv0iP3xhq_Q: Downloading webpage\n",
            "[youtube] iv0iP3xhq_Q: Downloading tv client config\n",
            "[youtube] iv0iP3xhq_Q: Downloading player 69b31e11-main\n",
            "[youtube] iv0iP3xhq_Q: Downloading tv player API JSON\n",
            "[youtube] iv0iP3xhq_Q: Downloading ios player API JSON\n",
            "[youtube] iv0iP3xhq_Q: Downloading m3u8 information\n",
            "[info] iv0iP3xhq_Q: Downloading 1 format(s): 18\n",
            "[download] Destination: videos/downloaded_video.mp4\n",
            "[download] 100% of  755.03KiB in 00:00:00 at 3.59MiB/s   \n",
            " Video downloaded successfully!\n",
            "Resizing video to 50%...\n",
            "✅ Resized video saved at: videos/resized_video.avi\n"
          ]
        }
      ]
    }
  ]
}